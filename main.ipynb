{
 "cells": [
  {
   "cell_type": "code",
   "execution_count": 21,
   "metadata": {
    "collapsed": true,
    "scrolled": true
   },
   "outputs": [],
   "source": [
    "import numpy as np\n",
    "import pandas as pd\n",
    "import matplotlib.pyplot as plt\n",
    "from sklearn import linear_model"
   ]
  },
  {
   "cell_type": "code",
   "execution_count": 22,
   "metadata": {
    "collapsed": true
   },
   "outputs": [],
   "source": [
    "data = pd.read_csv('general.csv', ',')"
   ]
  },
  {
   "cell_type": "code",
   "execution_count": 23,
   "metadata": {
    "collapsed": true
   },
   "outputs": [],
   "source": [
    "# Remove unneeded fields\n",
    "data = data.drop([\"Стены\", \"Наименование\", \"Соток\", \"Агентство\", \"Пользователь\", \"Телефон\", \"Описание\", \"Unnamed: 0\", \"Realty ID\", \"Улица\", \"Город\", \"Область\", \"Дата\", \"Тип недвижимости\", \"Жилая площадь\", \"Кухня\"], axis = 1)"
   ]
  },
  {
   "cell_type": "code",
   "execution_count": 24,
   "metadata": {
    "collapsed": true
   },
   "outputs": [],
   "source": [
    "# Remove item with price not in UAH\n",
    "data = data[data[\"Тип цены\"] == \"грн\"]\n",
    "data = data.drop(\"Тип цены\", axis = 1)"
   ]
  },
  {
   "cell_type": "code",
   "execution_count": 25,
   "metadata": {
    "collapsed": true
   },
   "outputs": [],
   "source": [
    "# Join same disctict spelled differently\n",
    "data = data.replace(\"Сыхивский\", \"Сыховский\")\n",
    "data = data.replace(\"Лычаков\", \"Лычаковский\")\n",
    "data = data.replace(\"Галицкий\", \"Галицький\")"
   ]
  },
  {
   "cell_type": "code",
   "execution_count": 26,
   "metadata": {
    "collapsed": true,
    "scrolled": true
   },
   "outputs": [],
   "source": [
    "# Remove districts with small amount of data\n",
    "counts = data['Район'].value_counts()\n",
    "data = data[data['Район'].isin(counts[counts > 30].index)]"
   ]
  },
  {
   "cell_type": "code",
   "execution_count": 27,
   "metadata": {
    "collapsed": true
   },
   "outputs": [],
   "source": [
    "# Fix headers' names\n",
    "data = data.rename(columns={\n",
    "    'Район': 'District',\n",
    "    'Цена': 'Price',\n",
    "    'Комнат': 'NumberOfRooms',\n",
    "    'Этаж': 'Floor',\n",
    "    'Этажность': 'FloorsInBuilding',\n",
    "    'Общая площадь': 'Area',\n",
    "})"
   ]
  },
  {
   "cell_type": "code",
   "execution_count": 28,
   "metadata": {
    "collapsed": true
   },
   "outputs": [],
   "source": [
    "# Divide data\n",
    "train = data.sample(frac=0.6,random_state=200)\n",
    "test = data.drop(train.index)\n",
    "cv = test[:len(test)//2]\n",
    "test = test[len(test)//2 + 1:]"
   ]
  },
  {
   "cell_type": "code",
   "execution_count": 29,
   "metadata": {},
   "outputs": [
    {
     "data": {
      "image/png": "[encoded data removed]",
      "text/plain": [
       "<matplotlib.figure.Figure at 0x110e7c6d0>"
      ]
     },
     "metadata": {},
     "output_type": "display_data"
    }
   ],
   "source": [
    "plt.scatter(train.Area, train.Price)\n",
    "plt.show()"
   ]
  },
  {
   "cell_type": "code",
   "execution_count": 30,
   "metadata": {
    "collapsed": true
   },
   "outputs": [],
   "source": [
    "reg = linear_model.LinearRegression()"
   ]
  },
  {
   "cell_type": "code",
   "execution_count": 35,
   "metadata": {
    "collapsed": true
   },
   "outputs": [],
   "source": [
    "x = train['Area']\n",
    "y = train['Price']\n",
    "\n",
    "x = np.reshape(x , (x.shape[0] , 1))\n",
    "y = np.reshape(y , (y.shape[0] , 1))"
   ]
  },
  {
   "cell_type": "code",
   "execution_count": 36,
   "metadata": {},
   "outputs": [
    {
     "data": {
      "text/plain": [
       "LinearRegression(copy_X=True, fit_intercept=True, n_jobs=1, normalize=False)"
      ]
     },
     "execution_count": 36,
     "metadata": {},
     "output_type": "execute_result"
    }
   ],
   "source": [
    "reg.fit(x, y)"
   ]
  },
  {
   "cell_type": "code",
   "execution_count": 38,
   "metadata": {},
   "outputs": [
    {
     "data": {
      "text/plain": [
       "array([[ 71.7111781]])"
      ]
     },
     "execution_count": 38,
     "metadata": {},
     "output_type": "execute_result"
    }
   ],
   "source": [
    "reg.coef_"
   ]
  },
  {
   "cell_type": "code",
   "execution_count": 46,
   "metadata": {},
   "outputs": [
    {
     "data": {
      "text/plain": [
       "array([[  355124.63533837],\n",
       "       [  434006.93125294],\n",
       "       [  498546.99154668],\n",
       "       [  484204.75592585],\n",
       "       [  426835.81344253],\n",
       "       [  469862.52030502],\n",
       "       [  448349.16687377],\n",
       "       [  484204.75592585],\n",
       "       [  864273.99987788],\n",
       "       [  398151.34220087],\n",
       "       [  720851.64366957],\n",
       "       [  398151.34220087],\n",
       "       [  362295.75314879],\n",
       "       [  491375.87373627],\n",
       "       [  484204.75592585],\n",
       "       [  541573.69840918],\n",
       "       [  498546.99154668],\n",
       "       [  577429.28746126],\n",
       "       [  455520.28468419],\n",
       "       [  469862.52030502],\n",
       "       [  541573.69840918],\n",
       "       [  541573.69840918],\n",
       "       [  491375.87373627],\n",
       "       [  498546.99154668],\n",
       "       [  434006.93125294],\n",
       "       [  362295.75314879],\n",
       "       [  541573.69840918],\n",
       "       [  756707.23272165],\n",
       "       [  434006.93125294],\n",
       "       [  541573.69840918],\n",
       "       [  541573.69840918],\n",
       "       [  434006.93125294],\n",
       "       [  462691.40249461],\n",
       "       [  412493.5778217 ],\n",
       "       [  376637.98876962],\n",
       "       [  577429.28746126],\n",
       "       [  699338.29023832],\n",
       "       [  613284.87651333],\n",
       "       [  290584.57504463],\n",
       "       [  469862.52030502],\n",
       "       [  434006.93125294],\n",
       "       [  469862.52030502],\n",
       "       [  426835.81344253],\n",
       "       [  462691.40249461],\n",
       "       [  548744.81621959],\n",
       "       [  613284.87651333],\n",
       "       [  649140.46556541],\n",
       "       [  340782.39971754],\n",
       "       [  376637.98876962],\n",
       "       [  434006.93125294],\n",
       "       [  649140.46556541],\n",
       "       [  484204.75592585],\n",
       "       [ 1079407.53419035],\n",
       "       [  469862.52030502],\n",
       "       [  864273.99987788],\n",
       "       [  347953.51752796],\n",
       "       [  369466.8709592 ],\n",
       "       [  577429.28746126],\n",
       "       [  598942.6408925 ],\n",
       "       [  434006.93125294],\n",
       "       [  570258.16965084],\n",
       "       [  469862.52030502],\n",
       "       [  649140.46556541],\n",
       "       [  577429.28746126],\n",
       "       [  720851.64366957],\n",
       "       [  541573.69840918],\n",
       "       [  434006.93125294],\n",
       "       [ 1079407.53419035],\n",
       "       [  577429.28746126],\n",
       "       [  577429.28746126],\n",
       "       [  613284.87651333],\n",
       "       [ 1079407.53419035],\n",
       "       [  469862.52030502],\n",
       "       [  720851.64366957],\n",
       "       [  434006.93125294],\n",
       "       [  469862.52030502],\n",
       "       [  577429.28746126],\n",
       "       [  541573.69840918],\n",
       "       [  477033.63811544],\n",
       "       [  491375.87373627],\n",
       "       [  419664.69563211],\n",
       "       [  684996.05461749],\n",
       "       [  505718.1093571 ],\n",
       "       [  333611.28190713],\n",
       "       [  491375.87373627],\n",
       "       [  398151.34220087],\n",
       "       [  684996.05461749],\n",
       "       [  505718.1093571 ],\n",
       "       [  505718.1093571 ],\n",
       "       [  864273.99987788],\n",
       "       [  892958.47111954],\n",
       "       [  534402.58059876],\n",
       "       [  434006.93125294],\n",
       "       [  641969.347755  ],\n",
       "       [  649140.46556541],\n",
       "       [  477033.63811544],\n",
       "       [  469862.52030502],\n",
       "       [  462691.40249461],\n",
       "       [  484204.75592585],\n",
       "       [  520060.34497793],\n",
       "       [  376637.98876962],\n",
       "       [  541573.69840918],\n",
       "       [  613284.87651333],\n",
       "       [  491375.87373627],\n",
       "       [  534402.58059876],\n",
       "       [  455520.28468419],\n",
       "       [  498546.99154668],\n",
       "       [  505718.1093571 ],\n",
       "       [  434006.93125294],\n",
       "       [  541573.69840918],\n",
       "       [  448349.16687377],\n",
       "       [  434006.93125294],\n",
       "       [ 1079407.53419035],\n",
       "       [  649140.46556541],\n",
       "       [  720851.64366957],\n",
       "       [  505718.1093571 ],\n",
       "       [  577429.28746126],\n",
       "       [  498546.99154668],\n",
       "       [  484204.75592585],\n",
       "       [  555915.93403001],\n",
       "       [  419664.69563211],\n",
       "       [  498546.99154668],\n",
       "       [  649140.46556541],\n",
       "       [  613284.87651333],\n",
       "       [ 1079407.53419035],\n",
       "       [  505718.1093571 ],\n",
       "       [  469862.52030502],\n",
       "       [  448349.16687377],\n",
       "       [  541573.69840918],\n",
       "       [  577429.28746126],\n",
       "       [  555915.93403001],\n",
       "       [  627627.11213416],\n",
       "       [  720851.64366957],\n",
       "       [  577429.28746126],\n",
       "       [  684996.05461749],\n",
       "       [  434006.93125294],\n",
       "       [  864273.99987788],\n",
       "       [  720851.64366957],\n",
       "       [  649140.46556541],\n",
       "       [  541573.69840918],\n",
       "       [  491375.87373627],\n",
       "       [  434006.93125294],\n",
       "       [  469862.52030502],\n",
       "       [  541573.69840918],\n",
       "       [  720851.64366957],\n",
       "       [ 1079407.53419035],\n",
       "       [  627627.11213416],\n",
       "       [  541573.69840918],\n",
       "       [  505718.1093571 ],\n",
       "       [  591771.52308209],\n",
       "       [  491375.87373627],\n",
       "       [  434006.93125294],\n",
       "       [  577429.28746126],\n",
       "       [  541573.69840918],\n",
       "       [  505718.1093571 ]])"
      ]
     },
     "execution_count": 46,
     "metadata": {},
     "output_type": "execute_result"
    }
   ],
   "source": [
    "x = test['Area']\n",
    "x = np.reshape(x , (x.shape[0] , 1))\n",
    "y = test['Price']\n",
    "y = np.reshape(y , (y.shape[0] , 1))\n",
    "\n",
    "reg.predict(y)"
   ]
  },
  {
   "cell_type": "code",
   "execution_count": 47,
   "metadata": {},
   "outputs": [
    {
     "data": {
      "text/plain": [
       "2793876.4761916776"
      ]
     },
     "execution_count": 47,
     "metadata": {},
     "output_type": "execute_result"
    }
   ],
   "source": [
    "np.mean((reg.predict(x) - y)**2)"
   ]
  },
  {
   "cell_type": "code",
   "execution_count": 52,
   "metadata": {},
   "outputs": [
    {
     "data": {
      "image/png": "[encoded data removed]",
      "text/plain": [
       "<matplotlib.figure.Figure at 0x11193c150>"
      ]
     },
     "metadata": {},
     "output_type": "display_data"
    }
   ],
   "source": [
    "plt.scatter(x, y)\n",
    "plt.plot(x, reg.predict(x))\n",
    "plt.show()"
   ]
  },
  {
   "cell_type": "code",
   "execution_count": null,
   "metadata": {
    "collapsed": true
   },
   "outputs": [],
   "source": []
  }
 ],
 "metadata": {
  "kernelspec": {
   "display_name": "Python 2",
   "language": "python",
   "name": "python2"
  },
  "language_info": {
   "codemirror_mode": {
    "name": "ipython",
    "version": 2
   },
   "file_extension": ".py",
   "mimetype": "text/x-python",
   "name": "python",
   "nbconvert_exporter": "python",
   "pygments_lexer": "ipython2",
   "version": "2.7.14"
  }
 },
 "nbformat": 4,
 "nbformat_minor": 2
}
